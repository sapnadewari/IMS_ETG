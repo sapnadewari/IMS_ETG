{
  "nbformat": 4,
  "nbformat_minor": 0,
  "metadata": {
    "colab": {
      "name": "IMS_Add_Product",
      "provenance": [],
      "collapsed_sections": []
    },
    "kernelspec": {
      "name": "python3",
      "display_name": "Python 3"
    },
    "language_info": {
      "name": "python"
    }
  },
  "cells": [
    {
      "cell_type": "code",
      "metadata": {
        "id": "sHdtwhKKRq5b"
      },
      "source": [
        ""
      ],
      "execution_count": null,
      "outputs": []
    },
    {
      "cell_type": "markdown",
      "metadata": {
        "id": "MMZb4gcONhLz"
      },
      "source": [
        "#IMS (Inventory Management System)\n",
        "###Requirement: Atleast 30 rows and 5columns \n",
        "##Adding New Product"
      ]
    },
    {
      "cell_type": "markdown",
      "metadata": {
        "id": "EXthUdPNYKcm"
      },
      "source": [
        "**Read Data**"
      ]
    },
    {
      "cell_type": "code",
      "metadata": {
        "id": "HDP8V2iqOH1Q"
      },
      "source": [
        "import json\n",
        "fd = open(\"record.json\",'r')\n",
        "r = fd.read()\n",
        "fd.close()\n",
        "\n",
        "record = json.loads(r)"
      ],
      "execution_count": 14,
      "outputs": []
    },
    {
      "cell_type": "code",
      "metadata": {
        "id": "GDFkx0piOXTB",
        "colab": {
          "base_uri": "https://localhost:8080/"
        },
        "outputId": "1b7ad1c1-c8da-4ad4-c8a7-eb569a791960"
      },
      "source": [
        "record"
      ],
      "execution_count": 15,
      "outputs": [
        {
          "output_type": "execute_result",
          "data": {
            "text/plain": [
              "{'1001': {'Prize': 'Yes',\n",
              "  'field': 'cake',\n",
              "  'name': 'Choco Cake',\n",
              "  'price': 100,\n",
              "  'quantity': 34},\n",
              " '1002': {'Prize': 'Yes',\n",
              "  'field': 'cake',\n",
              "  'name': 'Milk Cake',\n",
              "  'price': 800,\n",
              "  'quantity': 100},\n",
              " '1003': {'Prize': 'No',\n",
              "  'field': 'Refreshment',\n",
              "  'name': 'Drink',\n",
              "  'price': 85,\n",
              "  'quantity': 100},\n",
              " '1004': {'Prize': 'No',\n",
              "  'field': 'Chocolate',\n",
              "  'name': 'Candy',\n",
              "  'price': 5,\n",
              "  'quantity': 1000},\n",
              " '1005': {'Prize': 'No',\n",
              "  'field': 'stationary',\n",
              "  'name': 'Pen',\n",
              "  'price': 20,\n",
              "  'quantity': 100},\n",
              " '1006': {'Prize': 'No',\n",
              "  'field': 'electronic',\n",
              "  'name': 'Phone',\n",
              "  'price': 50000,\n",
              "  'quantity': 10},\n",
              " '1007': {'Prize': 'No',\n",
              "  'field': 'instrument',\n",
              "  'name': 'Mic',\n",
              "  'price': 1500,\n",
              "  'quantity': 0},\n",
              " '1008': {'Prize': 'No',\n",
              "  'field': 'stationary',\n",
              "  'name': 'Case',\n",
              "  'price': 599,\n",
              "  'quantity': 5},\n",
              " '1009': {'Prize': 'No',\n",
              "  'field': 'Stationary',\n",
              "  'name': 'Keyboard',\n",
              "  'price': 1999,\n",
              "  'quantity': 10}}"
            ]
          },
          "metadata": {},
          "execution_count": 15
        }
      ]
    },
    {
      "cell_type": "markdown",
      "metadata": {
        "id": "J72RZxgnxPnB"
      },
      "source": [
        "**Adding New Items**"
      ]
    },
    {
      "cell_type": "code",
      "metadata": {
        "id": "lDA9RJrtOa1b",
        "colab": {
          "base_uri": "https://localhost:8080/"
        },
        "outputId": "7490dfb2-71ab-479a-f391-123b8333b34a"
      },
      "source": [
        "n=int(input(\"Enter Number of items to be added: \"))\n",
        "for i in range(n):\n",
        "    prod_id = str(input(\"Enter product id:\"))\n",
        "    field = str(input(\"Enter field:\"))\n",
        "    name = str(input(\"Enter name:\"))\n",
        "    price = int(input(\"Enter price:\"))\n",
        "    quantity = int(input(\"Enter quantity:\"))\n",
        "    Prize = str(input(\"Enter Yes or No for Prize\"))\n",
        "\n",
        "    record[prod_id] = {'name': name, 'field':field, 'price': price, 'quantity': quantity, 'Prize':Prize}\n",
        "\n",
        "js = json.dumps(record)\n",
        "\n",
        "fd = open(\"record.json\",'w')\n",
        "fd.write(js)\n",
        "fd.close()"
      ],
      "execution_count": 22,
      "outputs": [
        {
          "name": "stdout",
          "output_type": "stream",
          "text": [
            "Enter Number of items to be added: 5\n",
            "Enter product id:1011\n",
            "Enter field:stationary\n",
            "Enter name:Eraser\n",
            "Enter price:5\n",
            "Enter quantity:55\n",
            "Enter Yes or No for Prizeno\n",
            "Enter product id:1012\n",
            "Enter field:Stationary\n",
            "Enter name:Jumbo book\n",
            "Enter price:55\n",
            "Enter quantity:40\n",
            "Enter Yes or No for Prizeno\n",
            "Enter product id:1013\n",
            "Enter field:Electronic\n",
            "Enter name:Laptop\n",
            "Enter price:50000\n",
            "Enter quantity:10\n",
            "Enter Yes or No for Prizeyes\n",
            "Enter product id:1014\n",
            "Enter field:Electronic\n",
            "Enter name:Adapter\n",
            "Enter price:500\n",
            "Enter quantity:20\n",
            "Enter Yes or No for Prizeno\n",
            "Enter product id:1015\n",
            "Enter field:Instrument\n",
            "Enter name:Guitar\n",
            "Enter price:6000\n",
            "Enter quantity:15\n",
            "Enter Yes or No for Prizeno\n"
          ]
        }
      ]
    }
  ]
}