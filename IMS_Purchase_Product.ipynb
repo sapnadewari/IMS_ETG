{
  "nbformat": 4,
  "nbformat_minor": 0,
  "metadata": {
    "colab": {
      "name": "IMS_Purchase_Product.ipynb",
      "provenance": []
    },
    "kernelspec": {
      "name": "python3",
      "display_name": "Python 3"
    },
    "language_info": {
      "name": "python"
    }
  },
  "cells": [
    {
      "cell_type": "markdown",
      "metadata": {
        "id": "A30LT2Of3W0u"
      },
      "source": [
        "#IMS (Inventory Management System)\n",
        "##Purchasing Products"
      ]
    },
    {
      "cell_type": "markdown",
      "metadata": {
        "id": "YjpRCuSO33Fz"
      },
      "source": [
        "**Read data from Inventory**"
      ]
    },
    {
      "cell_type": "code",
      "metadata": {
        "id": "JxtHGoyM0s6g"
      },
      "source": [
        "import json\n",
        "fd = open(\"record.json\",'r')\n",
        "r = fd.read()\n",
        "fd.close()\n",
        "\n",
        "record = json.loads(r)"
      ],
      "execution_count": 3,
      "outputs": []
    },
    {
      "cell_type": "code",
      "metadata": {
        "colab": {
          "base_uri": "https://localhost:8080/"
        },
        "id": "Jopq96yq1GSQ",
        "outputId": "9997a7a2-be17-45a1-f383-ee85e8127e27"
      },
      "source": [
        "record"
      ],
      "execution_count": 4,
      "outputs": [
        {
          "output_type": "execute_result",
          "data": {
            "text/plain": [
              "{'1001': {'Prize': 'Yes',\n",
              "  'field': 'cake',\n",
              "  'name': 'Choco Cake',\n",
              "  'price': 100,\n",
              "  'quantity': 34},\n",
              " '1002': {'Prize': 'Yes',\n",
              "  'field': 'cake',\n",
              "  'name': 'Milk Cake',\n",
              "  'price': 800,\n",
              "  'quantity': 100},\n",
              " '1003': {'Prize': 'No',\n",
              "  'field': 'Refreshment',\n",
              "  'name': 'Drink',\n",
              "  'price': 85,\n",
              "  'quantity': 100},\n",
              " '1004': {'Prize': 'No',\n",
              "  'field': 'Chocolate',\n",
              "  'name': 'Candy',\n",
              "  'price': 5,\n",
              "  'quantity': 1000},\n",
              " '1005': {'Prize': 'No',\n",
              "  'field': 'stationary',\n",
              "  'name': 'Pen',\n",
              "  'price': 20,\n",
              "  'quantity': 100},\n",
              " '1006': {'Prize': 'No',\n",
              "  'field': 'electronic',\n",
              "  'name': 'Phone',\n",
              "  'price': 50000,\n",
              "  'quantity': 10},\n",
              " '1007': {'Prize': 'No',\n",
              "  'field': 'instrument',\n",
              "  'name': 'Mic',\n",
              "  'price': 1500,\n",
              "  'quantity': 0},\n",
              " '1008': {'Prize': 'No',\n",
              "  'field': 'stationary',\n",
              "  'name': 'Case',\n",
              "  'price': 599,\n",
              "  'quantity': 5},\n",
              " '1009': {'Prize': 'No',\n",
              "  'field': 'Stationary',\n",
              "  'name': 'Keyboard',\n",
              "  'price': 1999,\n",
              "  'quantity': 10},\n",
              " '1010': {'Prize': 'yes',\n",
              "  'field': 'cake',\n",
              "  'name': 'Fruit cake',\n",
              "  'price': 120,\n",
              "  'quantity': 20},\n",
              " '1011': {'Prize': 'no',\n",
              "  'field': 'stationary',\n",
              "  'name': 'Eraser',\n",
              "  'price': 5,\n",
              "  'quantity': 55},\n",
              " '1012': {'Prize': 'no',\n",
              "  'field': 'Stationary',\n",
              "  'name': 'Jumbo book',\n",
              "  'price': 55,\n",
              "  'quantity': 40},\n",
              " '1013': {'Prize': 'yes',\n",
              "  'field': 'Electronic',\n",
              "  'name': 'Laptop',\n",
              "  'price': 50000,\n",
              "  'quantity': 10},\n",
              " '1014': {'Prize': 'no',\n",
              "  'field': 'Electronic',\n",
              "  'name': 'Adapter',\n",
              "  'price': 500,\n",
              "  'quantity': 20},\n",
              " '1015': {'Prize': 'no',\n",
              "  'field': 'Instrument',\n",
              "  'name': 'Guitar',\n",
              "  'price': 6000,\n",
              "  'quantity': 15}}"
            ]
          },
          "metadata": {},
          "execution_count": 4
        }
      ]
    },
    {
      "cell_type": "markdown",
      "metadata": {
        "id": "t-ksIBpa4Dxn"
      },
      "source": [
        "**Purchase Product**"
      ]
    },
    {
      "cell_type": "code",
      "metadata": {
        "colab": {
          "base_uri": "https://localhost:8080/"
        },
        "id": "67eP7Ngs1WPA",
        "outputId": "79566c43-11ac-4a55-b0d3-1fefa8d9d9e7"
      },
      "source": [
        "ui_prod  = str(input(\"Enter the product_Id: \"))\n",
        "ui_quant = int(input(\"Enter the quantity: \"))\n",
        "\n",
        "\n",
        "print(\"Product: \", record[ui_prod]['name'])\n",
        "print(\"Price: \", record[ui_prod]['price'])\n",
        "print(\"Billing Amount: \", record[ui_prod]['price'] * ui_quant)\n",
        "\n",
        "record[ui_prod]['quantity'] = record[ui_prod]['quantity'] - ui_quant"
      ],
      "execution_count": 8,
      "outputs": [
        {
          "output_type": "stream",
          "name": "stdout",
          "text": [
            "Enter the product_Id: 1001\n",
            "Enter the quantity: 2\n",
            "Product:  Choco Cake\n",
            "Price:  100\n",
            "Billing Amount:  200\n"
          ]
        }
      ]
    },
    {
      "cell_type": "markdown",
      "metadata": {
        "id": "7QkYWcVh4Pef"
      },
      "source": [
        "**Update Inventory**"
      ]
    },
    {
      "cell_type": "code",
      "metadata": {
        "id": "Y9cq2eMt1Xgo"
      },
      "source": [
        "js = json.dumps(record)\n",
        "\n",
        "fd = open(\"record.json\",'w')\n",
        "fd.write(js)\n",
        "fd.close()"
      ],
      "execution_count": 9,
      "outputs": []
    },
    {
      "cell_type": "markdown",
      "metadata": {
        "id": "nDme2x6c4Vss"
      },
      "source": [
        "**Sales JSON**"
      ]
    },
    {
      "cell_type": "code",
      "metadata": {
        "colab": {
          "base_uri": "https://localhost:8080/"
        },
        "id": "XF6EztyY1h0x",
        "outputId": "a3be4b2f-5f32-4986-88b5-ec0f812699b7"
      },
      "source": [
        "{'prod' : ui_prod, 'quantity' : ui_quant, 'amount': record[ui_prod]['price'] * ui_quant}"
      ],
      "execution_count": 11,
      "outputs": [
        {
          "output_type": "execute_result",
          "data": {
            "text/plain": [
              "{'amount': 200, 'prod': '1001', 'quantity': 2}"
            ]
          },
          "metadata": {},
          "execution_count": 11
        }
      ]
    },
    {
      "cell_type": "code",
      "metadata": {
        "id": "xyZDP6x_1jL8"
      },
      "source": [
        "sales = {1 : {'prod' : ui_prod, 'quantity' : ui_quant, 'amount': record[ui_prod]['price'] * ui_quant},\n",
        "         2 : {'prod' : ui_prod, 'quantity' : ui_quant, 'amount': record[ui_prod]['price'] * ui_quant},\n",
        "         3 : {'prod' : ui_prod, 'quantity' : ui_quant, 'amount': record[ui_prod]['price'] * ui_quant}}"
      ],
      "execution_count": 14,
      "outputs": []
    },
    {
      "cell_type": "code",
      "metadata": {
        "colab": {
          "base_uri": "https://localhost:8080/",
          "height": 52
        },
        "id": "P2wzV4Oh1ows",
        "outputId": "eb6bb0c8-1a04-4b1d-887f-b1ec6e28205e"
      },
      "source": [
        "sale = json.dumps(sales)\n",
        "sale"
      ],
      "execution_count": 16,
      "outputs": [
        {
          "output_type": "execute_result",
          "data": {
            "application/vnd.google.colaboratory.intrinsic+json": {
              "type": "string"
            },
            "text/plain": [
              "'{\"1\": {\"prod\": \"1001\", \"quantity\": 2, \"amount\": 200}, \"2\": {\"prod\": \"1001\", \"quantity\": 2, \"amount\": 200}, \"3\": {\"prod\": \"1001\", \"quantity\": 2, \"amount\": 200}}'"
            ]
          },
          "metadata": {},
          "execution_count": 16
        }
      ]
    }
  ]
}