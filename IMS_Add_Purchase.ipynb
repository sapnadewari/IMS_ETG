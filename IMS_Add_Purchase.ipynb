{
  "nbformat": 4,
  "nbformat_minor": 0,
  "metadata": {
    "colab": {
      "name": "IMS_Add_Purchase",
      "provenance": [],
      "collapsed_sections": []
    },
    "kernelspec": {
      "name": "python3",
      "display_name": "Python 3"
    },
    "language_info": {
      "name": "python"
    }
  },
  "cells": [
    {
      "cell_type": "code",
      "metadata": {
        "id": "sHdtwhKKRq5b"
      },
      "source": [
        ""
      ],
      "execution_count": null,
      "outputs": []
    },
    {
      "cell_type": "markdown",
      "metadata": {
        "id": "MMZb4gcONhLz"
      },
      "source": [
        "#IMS (Inventory Management System)\n",
        "###Requirement: Atleast 30 rows and 5columns \n"
      ]
    },
    {
      "cell_type": "markdown",
      "metadata": {
        "id": "EXthUdPNYKcm"
      },
      "source": [
        "**Read Data**"
      ]
    },
    {
      "cell_type": "code",
      "metadata": {
        "id": "HDP8V2iqOH1Q"
      },
      "source": [
        "import json\n",
        "fd = open(\"record.json\",'r')\n",
        "r = fd.read()\n",
        "fd.close()\n",
        "\n",
        "record = json.loads(r)"
      ],
      "execution_count": 31,
      "outputs": []
    },
    {
      "cell_type": "code",
      "metadata": {
        "id": "GDFkx0piOXTB",
        "colab": {
          "base_uri": "https://localhost:8080/"
        },
        "outputId": "ac3f2b99-1de1-43b4-8b53-3fb0ddfe484d"
      },
      "source": [
        "record"
      ],
      "execution_count": 32,
      "outputs": [
        {
          "output_type": "execute_result",
          "data": {
            "text/plain": [
              "{'1001': {'Prize': 'Yes',\n",
              "  'field': 'cake',\n",
              "  'name': 'Choco Cake',\n",
              "  'price': 100,\n",
              "  'quantity': 34},\n",
              " '1002': {'Prize': 'Yes',\n",
              "  'field': 'cake',\n",
              "  'name': 'Milk Cake',\n",
              "  'price': 800,\n",
              "  'quantity': 100},\n",
              " '1003': {'Prize': 'No',\n",
              "  'field': 'Refreshment',\n",
              "  'name': 'Drink',\n",
              "  'price': 85,\n",
              "  'quantity': 100},\n",
              " '1004': {'Prize': 'No',\n",
              "  'field': 'Chocolate',\n",
              "  'name': 'Candy',\n",
              "  'price': 5,\n",
              "  'quantity': 1000},\n",
              " '1005': {'Prize': 'No',\n",
              "  'field': 'stationary',\n",
              "  'name': 'Pen',\n",
              "  'price': 20,\n",
              "  'quantity': 100},\n",
              " '1006': {'Prize': 'No',\n",
              "  'field': 'electronic',\n",
              "  'name': 'Phone',\n",
              "  'price': 50000,\n",
              "  'quantity': 10},\n",
              " '1007': {'Prize': 'No',\n",
              "  'field': 'instrument',\n",
              "  'name': 'Mic',\n",
              "  'price': 1500,\n",
              "  'quantity': 0},\n",
              " '1008': {'Prize': 'No',\n",
              "  'field': 'stationary',\n",
              "  'name': 'Case',\n",
              "  'price': 599,\n",
              "  'quantity': 5},\n",
              " '1009': {'Prize': 'No',\n",
              "  'field': 'Stationary',\n",
              "  'name': 'Keyboard',\n",
              "  'price': 1999,\n",
              "  'quantity': 10},\n",
              " '1010': {'Prize': 'yes',\n",
              "  'field': 'cake',\n",
              "  'name': 'Fruit cake',\n",
              "  'price': 120,\n",
              "  'quantity': 20},\n",
              " '1011': {'Prize': 'no',\n",
              "  'field': 'stationary',\n",
              "  'name': 'Eraser',\n",
              "  'price': 5,\n",
              "  'quantity': 55},\n",
              " '1012': {'Prize': 'no',\n",
              "  'field': 'Stationary',\n",
              "  'name': 'Jumbo book',\n",
              "  'price': 55,\n",
              "  'quantity': 40},\n",
              " '1013': {'Prize': 'yes',\n",
              "  'field': 'Electronic',\n",
              "  'name': 'Laptop',\n",
              "  'price': 50000,\n",
              "  'quantity': 10},\n",
              " '1014': {'Prize': 'no',\n",
              "  'field': 'Electronic',\n",
              "  'name': 'Adapter',\n",
              "  'price': 500,\n",
              "  'quantity': 20},\n",
              " '1015': {'Prize': 'no',\n",
              "  'field': 'Instrument',\n",
              "  'name': 'Guitar',\n",
              "  'price': 6000,\n",
              "  'quantity': 15},\n",
              " '1016': {'Prize': 'no',\n",
              "  'field': 'electronic',\n",
              "  'name': 'mouse',\n",
              "  'price': 100,\n",
              "  'quantity': 20},\n",
              " '1017': {'Prize': 'no',\n",
              "  'field': 'stationary',\n",
              "  'name': 'bat',\n",
              "  'price': 90,\n",
              "  'quantity': 12},\n",
              " '1018': {'Prize': 'no',\n",
              "  'field': 'electronic',\n",
              "  'name': 'watch',\n",
              "  'price': 1000,\n",
              "  'quantity': 30},\n",
              " '1019': {'Prize': 'Yes',\n",
              "  'field': 'cake',\n",
              "  'name': 'Choco Cake',\n",
              "  'price': 100,\n",
              "  'quantity': 34},\n",
              " '1020': {'Prize': 'Yes',\n",
              "  'field': 'cake',\n",
              "  'name': 'Milk Cake',\n",
              "  'price': 800,\n",
              "  'quantity': 100},\n",
              " '1021': {'Prize': 'No',\n",
              "  'field': 'Refreshment',\n",
              "  'name': 'Drink',\n",
              "  'price': 85,\n",
              "  'quantity': 100},\n",
              " '1022': {'Prize': 'No',\n",
              "  'field': 'Chocolate',\n",
              "  'name': 'Candy',\n",
              "  'price': 5,\n",
              "  'quantity': 1000},\n",
              " '1023': {'Prize': 'No',\n",
              "  'field': 'stationary',\n",
              "  'name': 'Pen',\n",
              "  'price': 20,\n",
              "  'quantity': 100},\n",
              " '1024': {'Prize': 'No',\n",
              "  'field': 'electronic',\n",
              "  'name': 'Phone',\n",
              "  'price': 50000,\n",
              "  'quantity': 10},\n",
              " '1025': {'Prize': 'No',\n",
              "  'field': 'instrument',\n",
              "  'name': 'Mic',\n",
              "  'price': 1500,\n",
              "  'quantity': 0},\n",
              " '1026': {'Prize': 'No',\n",
              "  'field': 'stationary',\n",
              "  'name': 'Case',\n",
              "  'price': 599,\n",
              "  'quantity': 5},\n",
              " '1027': {'Prize': 'No',\n",
              "  'field': 'Stationary',\n",
              "  'name': 'Keyboard',\n",
              "  'price': 1999,\n",
              "  'quantity': 10},\n",
              " '1028': {'Prize': 'yes',\n",
              "  'field': 'cake',\n",
              "  'name': 'Fruit cake',\n",
              "  'price': 120,\n",
              "  'quantity': 20},\n",
              " '1029': {'Prize': 'no',\n",
              "  'field': 'stationary',\n",
              "  'name': 'Eraser',\n",
              "  'price': 5,\n",
              "  'quantity': 55},\n",
              " '1030': {'Prize': 'no',\n",
              "  'field': 'Stationary',\n",
              "  'name': 'Jumbo book',\n",
              "  'price': 55,\n",
              "  'quantity': 40},\n",
              " '1031': {'Prize': 'yes',\n",
              "  'field': 'Electronic',\n",
              "  'name': 'Laptop',\n",
              "  'price': 50000,\n",
              "  'quantity': 10},\n",
              " '1032': {'Prize': 'no',\n",
              "  'field': 'Electronic',\n",
              "  'name': 'Adapter',\n",
              "  'price': 500,\n",
              "  'quantity': 20}}"
            ]
          },
          "metadata": {},
          "execution_count": 32
        }
      ]
    },
    {
      "cell_type": "markdown",
      "metadata": {
        "id": "R6-9h__V8e4f"
      },
      "source": [
        "**Adding New Item**"
      ]
    },
    {
      "cell_type": "code",
      "metadata": {
        "id": "j1pJZlfa7jhM"
      },
      "source": [
        "def add_product():\n",
        "  n=int(input(\"Enter Number of items to be added: \"))\n",
        "  for i in range(n):\n",
        "    prod_id = str(input(\"Enter product id:\"))\n",
        "    field = str(input(\"Enter field:\"))\n",
        "    name = str(input(\"Enter name:\"))\n",
        "    price = int(input(\"Enter price:\"))\n",
        "    quantity = int(input(\"Enter quantity:\"))\n",
        "    Prize = str(input(\"Enter Yes or No for Prize\"))\n",
        "\n",
        "    record[prod_id] = {'name': name, 'field':field, 'price': price, 'quantity': quantity, 'Prize':Prize}\n",
        "\n",
        "  js = json.dumps(record)\n",
        "\n",
        "  fd = open(\"record.json\",'w')\n",
        "  fd.write(js)\n",
        "  fd.close()"
      ],
      "execution_count": 26,
      "outputs": []
    },
    {
      "cell_type": "markdown",
      "metadata": {
        "id": "J72RZxgnxPnB"
      },
      "source": [
        "**Purchase Items**"
      ]
    },
    {
      "cell_type": "code",
      "metadata": {
        "id": "zcRd5uEP762y"
      },
      "source": [
        "def purchase_item():\n",
        "  ui_prod  = str(input(\"Enter the product_Id: \"))\n",
        "  ui_quant = int(input(\"Enter the quantity: \"))\n",
        "\n",
        "\n",
        "  print(\"Product: \", record[ui_prod]['name'])\n",
        "  print(\"Price: \", record[ui_prod]['price'])\n",
        "  print(\"Billing Amount: \", record[ui_prod]['price'] * ui_quant)\n",
        "\n",
        "  record[ui_prod]['quantity'] = record[ui_prod]['quantity'] - ui_quant\n",
        "  \n",
        "  js = json.dumps(record)\n",
        "  fd = open(\"record.json\",'w')\n",
        "  fd.write(js)\n",
        "  fd.close()\n",
        "  sales = {'prod' : ui_prod, 'quantity' : ui_quant, 'amount': record[ui_prod]['price'] * ui_quant}\n",
        "  sale = json.dumps(sales)\n",
        "  print(sale)\n",
        "        "
      ],
      "execution_count": 27,
      "outputs": []
    },
    {
      "cell_type": "markdown",
      "metadata": {
        "id": "oyApqf839E21"
      },
      "source": [
        "Main Body\n",
        "    "
      ]
    },
    {
      "cell_type": "code",
      "metadata": {
        "colab": {
          "base_uri": "https://localhost:8080/"
        },
        "id": "qUDehB7t90py",
        "outputId": "b8868970-9e4e-4f63-8c4c-134d346f47f0"
      },
      "source": [
        "if __name__ == \"__main__\":\n",
        "    opt=int(input(\"Enter: 1 for Adding items, 2 for Puchasing items\\n\"))\n",
        "    if opt==1:\n",
        "      add_product()\n",
        "      print(\"Added\")\n",
        "    elif opt==2:\n",
        "      purchase_item()\n",
        "    else:\n",
        "      print(\"Enter 1 or 2\")\n",
        "    "
      ],
      "execution_count": 30,
      "outputs": [
        {
          "output_type": "stream",
          "name": "stdout",
          "text": [
            "Enter: 1 for Adding items, 2 for Puchasing items\n",
            "1\n",
            "Enter Number of items to be added: 1\n",
            "Enter product id:1018\n",
            "Enter field:electronic\n",
            "Enter name:watch\n",
            "Enter price:1000\n",
            "Enter quantity:30\n",
            "Enter Yes or No for Prizeno\n",
            "Added\n"
          ]
        }
      ]
    }
  ]
}